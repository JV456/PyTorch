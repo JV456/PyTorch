{
  "nbformat": 4,
  "nbformat_minor": 0,
  "metadata": {
    "colab": {
      "provenance": [],
      "gpuType": "T4",
      "authorship_tag": "ABX9TyPnsYlTU1g4UbZ2SVixjFnD",
      "include_colab_link": true
    },
    "kernelspec": {
      "name": "python3",
      "display_name": "Python 3"
    },
    "language_info": {
      "name": "python"
    },
    "accelerator": "GPU"
  },
  "cells": [
    {
      "cell_type": "markdown",
      "metadata": {
        "id": "view-in-github",
        "colab_type": "text"
      },
      "source": [
        "<a href=\"https://colab.research.google.com/github/JV456/PyTorch/blob/main/LinearRegression.ipynb\" target=\"_parent\"><img src=\"https://colab.research.google.com/assets/colab-badge.svg\" alt=\"Open In Colab\"/></a>"
      ]
    },
    {
      "cell_type": "code",
      "execution_count": 1,
      "metadata": {
        "colab": {
          "base_uri": "https://localhost:8080/",
          "height": 36
        },
        "id": "abBP6bziHsWj",
        "outputId": "76866e8f-b83e-4a7a-d28f-a544fb49a00f"
      },
      "outputs": [
        {
          "output_type": "execute_result",
          "data": {
            "text/plain": [
              "'2.3.0+cu121'"
            ],
            "application/vnd.google.colaboratory.intrinsic+json": {
              "type": "string"
            }
          },
          "metadata": {},
          "execution_count": 1
        }
      ],
      "source": [
        "import torch\n",
        "from torch import nn  # torch.nn these the basic building block for graphs\n",
        "import matplotlib.pyplot as plt\n",
        "torch.__version__"
      ]
    },
    {
      "cell_type": "markdown",
      "source": [
        "### we will use a linear regression formula to make a straight line with known parameters"
      ],
      "metadata": {
        "id": "juLDSwqtJlML"
      }
    },
    {
      "cell_type": "code",
      "source": [
        "weight = 0.9\n",
        "bias = 0.2\n",
        "\n",
        "start = 1\n",
        "end = 2\n",
        "step = 0.02\n",
        "\n",
        "X = torch.arange(start,end,step).unsqueeze(dim=1)\n",
        "y = weight * X + bias\n",
        "\n",
        "X[:10], y[:10]"
      ],
      "metadata": {
        "colab": {
          "base_uri": "https://localhost:8080/"
        },
        "id": "inURaiVxLKQ5",
        "outputId": "dcff111b-6ce1-4eae-fc4f-d2f08c4f8f3c"
      },
      "execution_count": 2,
      "outputs": [
        {
          "output_type": "execute_result",
          "data": {
            "text/plain": [
              "(tensor([[1.0000],\n",
              "         [1.0200],\n",
              "         [1.0400],\n",
              "         [1.0600],\n",
              "         [1.0800],\n",
              "         [1.1000],\n",
              "         [1.1200],\n",
              "         [1.1400],\n",
              "         [1.1600],\n",
              "         [1.1800]]),\n",
              " tensor([[1.1000],\n",
              "         [1.1180],\n",
              "         [1.1360],\n",
              "         [1.1540],\n",
              "         [1.1720],\n",
              "         [1.1900],\n",
              "         [1.2080],\n",
              "         [1.2260],\n",
              "         [1.2440],\n",
              "         [1.2620]]))"
            ]
          },
          "metadata": {},
          "execution_count": 2
        }
      ]
    },
    {
      "cell_type": "code",
      "source": [
        "len(X), len(y)"
      ],
      "metadata": {
        "colab": {
          "base_uri": "https://localhost:8080/"
        },
        "id": "F7hLV1SUMVgf",
        "outputId": "f364f9b2-988d-4e92-90c8-9ccfa65043cf"
      },
      "execution_count": 3,
      "outputs": [
        {
          "output_type": "execute_result",
          "data": {
            "text/plain": [
              "(50, 50)"
            ]
          },
          "metadata": {},
          "execution_count": 3
        }
      ]
    },
    {
      "cell_type": "code",
      "source": [
        "# creating the train and test split\n",
        "train_split = int(0.8*len(X))\n",
        "X_train, y_train = X[:train_split], y[:train_split]\n",
        "X_test, y_test = X[train_split:], y[train_split:]\n",
        "\n",
        "len(X_train), len(y_train), len(X_test), len(y_test)"
      ],
      "metadata": {
        "colab": {
          "base_uri": "https://localhost:8080/"
        },
        "id": "40ehN45RMzbQ",
        "outputId": "ee840503-17fc-4a9d-de17-46729e608a63"
      },
      "execution_count": 4,
      "outputs": [
        {
          "output_type": "execute_result",
          "data": {
            "text/plain": [
              "(40, 40, 10, 10)"
            ]
          },
          "metadata": {},
          "execution_count": 4
        }
      ]
    },
    {
      "cell_type": "code",
      "source": [
        "# visualizing\n",
        "def plot_predictions(train_data=X_train,\n",
        "                    train_labels=y_train,\n",
        "                    test_data=X_test,\n",
        "                    test_labels=y_test,\n",
        "                    predictions=None):\n",
        "\n",
        "  plt.figure(figsize=(10,7))\n",
        "\n",
        "  #ploting the training data\n",
        "  plt.scatter(train_data, train_labels, c=\"b\", s=4, label=\"Training data\")\n",
        "\n",
        "  #ploting the testing data\n",
        "  plt.scatter(test_data, test_labels, c=\"g\", s=4, label=\"Testing data\")\n",
        "\n",
        "  # are there predictions\n",
        "  if predictions is not None:\n",
        "    #plot prediction if they exist\n",
        "    plt.scatter(test_data, predictions, c=\"r\", s=4, label=\"Predictions\")\n",
        "\n",
        "  plt.legend(prop={\"size\": 14});"
      ],
      "metadata": {
        "id": "LwQTHfglQGjR"
      },
      "execution_count": 5,
      "outputs": []
    },
    {
      "cell_type": "code",
      "source": [
        "plot_predictions()"
      ],
      "metadata": {
        "colab": {
          "base_uri": "https://localhost:8080/",
          "height": 471
        },
        "id": "4yU_uGtRVIXM",
        "outputId": "340fd8b9-6110-4f91-f48e-58a7e5fb0bef"
      },
      "execution_count": 6,
      "outputs": [
        {
          "output_type": "display_data",
          "data": {
            "text/plain": [
              "<Figure size 1000x700 with 1 Axes>"
            ],
            "image/png": "[encoded data removed]"
          },
          "metadata": {}
        }
      ]
    },
    {
      "cell_type": "markdown",
      "source": [
        "## building model"
      ],
      "metadata": {
        "id": "I4V_pMFrWoft"
      }
    },
    {
      "cell_type": "code",
      "source": [
        "# creting the linear regression model class\n",
        "\n",
        "class LinearRegressionModel(nn.Module):\n",
        "  def __init__(self):\n",
        "    super().__init__()\n",
        "    self.weights = nn.Parameter(torch.randn(1,\n",
        "                                            requires_grad=True,\n",
        "                                            dtype=torch.float))\n",
        "    self.bias= nn.Parameter(torch.randn(1,\n",
        "                                        requires_grad=True,\n",
        "                                        dtype=torch.float))\n",
        "\n",
        "  #Forward method to define the computation in the model\n",
        "\n",
        "  def forward(self, x: torch.Tensor) -> torch.Tensor:\n",
        "    return self.weights * x + self.bias"
      ],
      "metadata": {
        "id": "JcB8-Sy-WxgP"
      },
      "execution_count": 7,
      "outputs": []
    },
    {
      "cell_type": "code",
      "source": [
        "# checking the content of our PyTorch model\n",
        "\n",
        "torch.manual_seed(42)\n",
        "\n",
        "model_0 = LinearRegressionModel()\n",
        "\n",
        "list(model_0.parameters())"
      ],
      "metadata": {
        "colab": {
          "base_uri": "https://localhost:8080/"
        },
        "id": "h-RymtQGhKS2",
        "outputId": "7e69b8db-d8c2-44c5-9266-c0489cee9bb2"
      },
      "execution_count": 8,
      "outputs": [
        {
          "output_type": "execute_result",
          "data": {
            "text/plain": [
              "[Parameter containing:\n",
              " tensor([0.3367], requires_grad=True),\n",
              " Parameter containing:\n",
              " tensor([0.1288], requires_grad=True)]"
            ]
          },
          "metadata": {},
          "execution_count": 8
        }
      ]
    },
    {
      "cell_type": "code",
      "source": [
        "model_0.state_dict()"
      ],
      "metadata": {
        "colab": {
          "base_uri": "https://localhost:8080/"
        },
        "id": "ehpvKeg7h0EY",
        "outputId": "a8f7bcbd-058f-4bd7-93a0-a7c16ec1ff48"
      },
      "execution_count": 9,
      "outputs": [
        {
          "output_type": "execute_result",
          "data": {
            "text/plain": [
              "OrderedDict([('weights', tensor([0.3367])), ('bias', tensor([0.1288]))])"
            ]
          },
          "metadata": {},
          "execution_count": 9
        }
      ]
    },
    {
      "cell_type": "code",
      "source": [
        "weight, bias"
      ],
      "metadata": {
        "colab": {
          "base_uri": "https://localhost:8080/"
        },
        "id": "ErZMf_RDJka3",
        "outputId": "b1b64bb6-9207-4a12-85c8-00ab72f8a99f"
      },
      "execution_count": 10,
      "outputs": [
        {
          "output_type": "execute_result",
          "data": {
            "text/plain": [
              "(0.9, 0.2)"
            ]
          },
          "metadata": {},
          "execution_count": 10
        }
      ]
    },
    {
      "cell_type": "code",
      "source": [
        "# Make predictions with model\n",
        "\n",
        "with torch.inference_mode():\n",
        "  y_preds = model_0(X_test)\n",
        "\n",
        "y_preds"
      ],
      "metadata": {
        "colab": {
          "base_uri": "https://localhost:8080/"
        },
        "id": "MSop2yz-UDR2",
        "outputId": "28cbfddb-55bf-43b0-9645-c524fd5a66c7"
      },
      "execution_count": 11,
      "outputs": [
        {
          "output_type": "execute_result",
          "data": {
            "text/plain": [
              "tensor([[0.7349],\n",
              "        [0.7416],\n",
              "        [0.7483],\n",
              "        [0.7551],\n",
              "        [0.7618],\n",
              "        [0.7685],\n",
              "        [0.7753],\n",
              "        [0.7820],\n",
              "        [0.7887],\n",
              "        [0.7955]])"
            ]
          },
          "metadata": {},
          "execution_count": 11
        }
      ]
    },
    {
      "cell_type": "code",
      "source": [
        "y_test"
      ],
      "metadata": {
        "colab": {
          "base_uri": "https://localhost:8080/"
        },
        "id": "l1FjiCQ_VgAz",
        "outputId": "4df7f529-5e79-445e-b234-8a27170ee373"
      },
      "execution_count": 12,
      "outputs": [
        {
          "output_type": "execute_result",
          "data": {
            "text/plain": [
              "tensor([[1.8200],\n",
              "        [1.8380],\n",
              "        [1.8560],\n",
              "        [1.8740],\n",
              "        [1.8920],\n",
              "        [1.9100],\n",
              "        [1.9280],\n",
              "        [1.9460],\n",
              "        [1.9640],\n",
              "        [1.9820]])"
            ]
          },
          "metadata": {},
          "execution_count": 12
        }
      ]
    },
    {
      "cell_type": "code",
      "source": [
        "print(f\"Number of testing samples: {len(X_test)}\")\n",
        "print(f\"Number of predictions made: {len(y_preds)}\")\n",
        "print(f\"Predicted values:\\n{y_preds}\")"
      ],
      "metadata": {
        "colab": {
          "base_uri": "https://localhost:8080/"
        },
        "id": "_pimm_jDKqJa",
        "outputId": "d298fe8e-0191-4293-f85e-eb7cf797761a"
      },
      "execution_count": 14,
      "outputs": [
        {
          "output_type": "stream",
          "name": "stdout",
          "text": [
            "Number of testing samples: 10\n",
            "Number of predictions made: 10\n",
            "Predicted values:\n",
            "tensor([[0.7349],\n",
            "        [0.7416],\n",
            "        [0.7483],\n",
            "        [0.7551],\n",
            "        [0.7618],\n",
            "        [0.7685],\n",
            "        [0.7753],\n",
            "        [0.7820],\n",
            "        [0.7887],\n",
            "        [0.7955]])\n"
          ]
        }
      ]
    },
    {
      "cell_type": "code",
      "source": [
        "plot_predictions(predictions=y_preds)"
      ],
      "metadata": {
        "colab": {
          "base_uri": "https://localhost:8080/",
          "height": 471
        },
        "id": "hjSGRWGyVjJd",
        "outputId": "5cba45a5-967f-4cbe-895d-06dd91165e53"
      },
      "execution_count": 13,
      "outputs": [
        {
          "output_type": "display_data",
          "data": {
            "text/plain": [
              "<Figure size 1000x700 with 1 Axes>"
            ],
            "image/png": "[encoded data removed]"
          },
          "metadata": {}
        }
      ]
    },
    {
      "cell_type": "code",
      "source": [
        "y_test - y_preds"
      ],
      "metadata": {
        "id": "_HN62RDBXPjl",
        "colab": {
          "base_uri": "https://localhost:8080/"
        },
        "outputId": "5a912b35-ebaa-4576-f7bd-43f3a7d2406f"
      },
      "execution_count": 15,
      "outputs": [
        {
          "output_type": "execute_result",
          "data": {
            "text/plain": [
              "tensor([[1.0851],\n",
              "        [1.0964],\n",
              "        [1.1077],\n",
              "        [1.1189],\n",
              "        [1.1302],\n",
              "        [1.1415],\n",
              "        [1.1527],\n",
              "        [1.1640],\n",
              "        [1.1753],\n",
              "        [1.1865]])"
            ]
          },
          "metadata": {},
          "execution_count": 15
        }
      ]
    }
  ]
}