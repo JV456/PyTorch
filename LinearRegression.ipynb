{
  "nbformat": 4,
  "nbformat_minor": 0,
  "metadata": {
    "colab": {
      "provenance": [],
      "gpuType": "T4",
      "authorship_tag": "ABX9TyNLGIiUlWshR3ydqOO6Hd3R",
      "include_colab_link": true
    },
    "kernelspec": {
      "name": "python3",
      "display_name": "Python 3"
    },
    "language_info": {
      "name": "python"
    },
    "accelerator": "GPU"
  },
  "cells": [
    {
      "cell_type": "markdown",
      "metadata": {
        "id": "view-in-github",
        "colab_type": "text"
      },
      "source": [
        "<a href=\"https://colab.research.google.com/github/JV456/PyTorch/blob/main/LinearRegression.ipynb\" target=\"_parent\"><img src=\"https://colab.research.google.com/assets/colab-badge.svg\" alt=\"Open In Colab\"/></a>"
      ]
    },
    {
      "cell_type": "code",
      "execution_count": 43,
      "metadata": {
        "colab": {
          "base_uri": "https://localhost:8080/",
          "height": 36
        },
        "id": "abBP6bziHsWj",
        "outputId": "a2ee8b73-22c4-47fc-eb69-e03e25864174"
      },
      "outputs": [
        {
          "output_type": "execute_result",
          "data": {
            "text/plain": [
              "'2.3.0+cu121'"
            ],
            "application/vnd.google.colaboratory.intrinsic+json": {
              "type": "string"
            }
          },
          "metadata": {},
          "execution_count": 43
        }
      ],
      "source": [
        "import torch\n",
        "from torch import nn  # torch.nn these the basic building block for graphs\n",
        "import matplotlib.pyplot as plt\n",
        "torch.__version__"
      ]
    },
    {
      "cell_type": "markdown",
      "source": [
        "### we will use a linear regression formula to make a straight line with known parameters"
      ],
      "metadata": {
        "id": "juLDSwqtJlML"
      }
    },
    {
      "cell_type": "code",
      "source": [
        "weight = 0.9\n",
        "bias = 0.2\n",
        "\n",
        "start = 1\n",
        "end = 2\n",
        "step = 0.02\n",
        "\n",
        "X = torch.arange(start,end,step).unsqueeze(dim=1)\n",
        "y = weight * X + bias\n",
        "\n",
        "X[:10], y[:10]"
      ],
      "metadata": {
        "colab": {
          "base_uri": "https://localhost:8080/"
        },
        "id": "inURaiVxLKQ5",
        "outputId": "40efe89e-5153-43d0-da08-a19bd9f079c8"
      },
      "execution_count": 44,
      "outputs": [
        {
          "output_type": "execute_result",
          "data": {
            "text/plain": [
              "(tensor([[1.0000],\n",
              "         [1.0200],\n",
              "         [1.0400],\n",
              "         [1.0600],\n",
              "         [1.0800],\n",
              "         [1.1000],\n",
              "         [1.1200],\n",
              "         [1.1400],\n",
              "         [1.1600],\n",
              "         [1.1800]]),\n",
              " tensor([[1.1000],\n",
              "         [1.1180],\n",
              "         [1.1360],\n",
              "         [1.1540],\n",
              "         [1.1720],\n",
              "         [1.1900],\n",
              "         [1.2080],\n",
              "         [1.2260],\n",
              "         [1.2440],\n",
              "         [1.2620]]))"
            ]
          },
          "metadata": {},
          "execution_count": 44
        }
      ]
    },
    {
      "cell_type": "code",
      "source": [
        "len(X), len(y)"
      ],
      "metadata": {
        "colab": {
          "base_uri": "https://localhost:8080/"
        },
        "id": "F7hLV1SUMVgf",
        "outputId": "43da17ea-4b62-490b-f5f0-a8bab85c4289"
      },
      "execution_count": 45,
      "outputs": [
        {
          "output_type": "execute_result",
          "data": {
            "text/plain": [
              "(50, 50)"
            ]
          },
          "metadata": {},
          "execution_count": 45
        }
      ]
    },
    {
      "cell_type": "code",
      "source": [
        "# creating the train and test split\n",
        "train_split = int(0.8*len(X))\n",
        "X_train, y_train = X[:train_split], y[:train_split]\n",
        "X_test, y_test = X[train_split:], y[train_split:]\n",
        "\n",
        "len(X_train), len(y_train), len(X_test), len(y_test)"
      ],
      "metadata": {
        "colab": {
          "base_uri": "https://localhost:8080/"
        },
        "id": "40ehN45RMzbQ",
        "outputId": "2ea9a48a-8371-4fcb-a193-6f13a89568b8"
      },
      "execution_count": 46,
      "outputs": [
        {
          "output_type": "execute_result",
          "data": {
            "text/plain": [
              "(40, 40, 10, 10)"
            ]
          },
          "metadata": {},
          "execution_count": 46
        }
      ]
    },
    {
      "cell_type": "code",
      "source": [
        "# visualizing\n",
        "def plot_predictions(train_data=X_train,\n",
        "                    train_labels=y_train,\n",
        "                    test_data=X_test,\n",
        "                    test_labels=y_test,\n",
        "                    predictions=None):\n",
        "\n",
        "  plt.figure(figsize=(10,7))\n",
        "\n",
        "  #ploting the training data\n",
        "  plt.scatter(train_data, train_labels, c=\"b\", s=4, label=\"Training data\")\n",
        "\n",
        "  #ploting the testing data\n",
        "  plt.scatter(test_data, test_labels, c=\"g\", s=4, label=\"Testing data\")\n",
        "\n",
        "  # are there predictions\n",
        "  if predictions is not None:\n",
        "    #plot prediction if they exist\n",
        "    plt.scatter(test_data, predictions, c=\"r\", s=4, label=\"Predictions\")\n",
        "\n",
        "  plt.legend(prop={\"size\": 14});"
      ],
      "metadata": {
        "id": "LwQTHfglQGjR"
      },
      "execution_count": 47,
      "outputs": []
    },
    {
      "cell_type": "code",
      "source": [
        "plot_predictions()"
      ],
      "metadata": {
        "colab": {
          "base_uri": "https://localhost:8080/",
          "height": 471
        },
        "id": "4yU_uGtRVIXM",
        "outputId": "1f234bb2-46ca-4059-e9cd-cabaf5943547"
      },
      "execution_count": 48,
      "outputs": [
        {
          "output_type": "display_data",
          "data": {
            "text/plain": [
              "<Figure size 1000x700 with 1 Axes>"
            ],
            "image/png": "[encoded data removed]"
          },
          "metadata": {}
        }
      ]
    },
    {
      "cell_type": "markdown",
      "source": [
        "## building model"
      ],
      "metadata": {
        "id": "I4V_pMFrWoft"
      }
    },
    {
      "cell_type": "code",
      "source": [
        "# creting the linear regression model class\n",
        "\n",
        "class LinearRegressionModel(nn.Module):\n",
        "  def __init__(self):\n",
        "    super().__init__()\n",
        "    self.weights = nn.Parameter(torch.randn(1,\n",
        "                                            requires_grad=True,\n",
        "                                            dtype=torch.float))\n",
        "    self.bias= nn.Parameter(torch.randn(1,\n",
        "                                        requires_grad=True,\n",
        "                                        dtype=torch.float))\n",
        "\n",
        "  #Forward method to define the computation in the model\n",
        "\n",
        "  def forward(self, x: torch.Tensor) -> torch.Tensor:\n",
        "    return self.weights * x + self.bias"
      ],
      "metadata": {
        "id": "JcB8-Sy-WxgP"
      },
      "execution_count": 49,
      "outputs": []
    },
    {
      "cell_type": "code",
      "source": [
        "# checking the content of our PyTorch model\n",
        "\n",
        "torch.manual_seed(42)\n",
        "\n",
        "model_0 = LinearRegressionModel()\n",
        "\n",
        "list(model_0.parameters())"
      ],
      "metadata": {
        "colab": {
          "base_uri": "https://localhost:8080/"
        },
        "id": "h-RymtQGhKS2",
        "outputId": "81d74943-402f-41ba-e611-238c197374ff"
      },
      "execution_count": 50,
      "outputs": [
        {
          "output_type": "execute_result",
          "data": {
            "text/plain": [
              "[Parameter containing:\n",
              " tensor([0.3367], requires_grad=True),\n",
              " Parameter containing:\n",
              " tensor([0.1288], requires_grad=True)]"
            ]
          },
          "metadata": {},
          "execution_count": 50
        }
      ]
    },
    {
      "cell_type": "code",
      "source": [
        "model_0.state_dict()"
      ],
      "metadata": {
        "colab": {
          "base_uri": "https://localhost:8080/"
        },
        "id": "ehpvKeg7h0EY",
        "outputId": "5b64044b-722a-4252-bd46-4c41d50a317c"
      },
      "execution_count": 51,
      "outputs": [
        {
          "output_type": "execute_result",
          "data": {
            "text/plain": [
              "OrderedDict([('weights', tensor([0.3367])), ('bias', tensor([0.1288]))])"
            ]
          },
          "metadata": {},
          "execution_count": 51
        }
      ]
    },
    {
      "cell_type": "code",
      "source": [
        "weight, bias"
      ],
      "metadata": {
        "colab": {
          "base_uri": "https://localhost:8080/"
        },
        "id": "ErZMf_RDJka3",
        "outputId": "6a183573-52df-43c5-a445-8bba1adc3108"
      },
      "execution_count": 52,
      "outputs": [
        {
          "output_type": "execute_result",
          "data": {
            "text/plain": [
              "(0.9, 0.2)"
            ]
          },
          "metadata": {},
          "execution_count": 52
        }
      ]
    },
    {
      "cell_type": "code",
      "source": [
        "# Make predictions with model\n",
        "\n",
        "with torch.inference_mode():\n",
        "  y_preds = model_0(X_test)\n",
        "\n",
        "y_preds"
      ],
      "metadata": {
        "colab": {
          "base_uri": "https://localhost:8080/"
        },
        "id": "MSop2yz-UDR2",
        "outputId": "e65992b2-55c4-432d-8c07-97201444ab53"
      },
      "execution_count": 53,
      "outputs": [
        {
          "output_type": "execute_result",
          "data": {
            "text/plain": [
              "tensor([[0.7349],\n",
              "        [0.7416],\n",
              "        [0.7483],\n",
              "        [0.7551],\n",
              "        [0.7618],\n",
              "        [0.7685],\n",
              "        [0.7753],\n",
              "        [0.7820],\n",
              "        [0.7887],\n",
              "        [0.7955]])"
            ]
          },
          "metadata": {},
          "execution_count": 53
        }
      ]
    },
    {
      "cell_type": "code",
      "source": [
        "y_test"
      ],
      "metadata": {
        "colab": {
          "base_uri": "https://localhost:8080/"
        },
        "id": "l1FjiCQ_VgAz",
        "outputId": "9732c7c1-8756-4567-9ccf-5e97f1950213"
      },
      "execution_count": 54,
      "outputs": [
        {
          "output_type": "execute_result",
          "data": {
            "text/plain": [
              "tensor([[1.8200],\n",
              "        [1.8380],\n",
              "        [1.8560],\n",
              "        [1.8740],\n",
              "        [1.8920],\n",
              "        [1.9100],\n",
              "        [1.9280],\n",
              "        [1.9460],\n",
              "        [1.9640],\n",
              "        [1.9820]])"
            ]
          },
          "metadata": {},
          "execution_count": 54
        }
      ]
    },
    {
      "cell_type": "code",
      "source": [
        "print(f\"Number of testing samples: {len(X_test)}\")\n",
        "print(f\"Number of predictions made: {len(y_preds)}\")\n",
        "print(f\"Predicted values:\\n{y_preds}\")"
      ],
      "metadata": {
        "colab": {
          "base_uri": "https://localhost:8080/"
        },
        "id": "_pimm_jDKqJa",
        "outputId": "43f60138-32f2-470f-815d-c8a70ecb1ec5"
      },
      "execution_count": 55,
      "outputs": [
        {
          "output_type": "stream",
          "name": "stdout",
          "text": [
            "Number of testing samples: 10\n",
            "Number of predictions made: 10\n",
            "Predicted values:\n",
            "tensor([[0.7349],\n",
            "        [0.7416],\n",
            "        [0.7483],\n",
            "        [0.7551],\n",
            "        [0.7618],\n",
            "        [0.7685],\n",
            "        [0.7753],\n",
            "        [0.7820],\n",
            "        [0.7887],\n",
            "        [0.7955]])\n"
          ]
        }
      ]
    },
    {
      "cell_type": "code",
      "source": [
        "plot_predictions(predictions=y_preds)"
      ],
      "metadata": {
        "colab": {
          "base_uri": "https://localhost:8080/",
          "height": 471
        },
        "id": "hjSGRWGyVjJd",
        "outputId": "62ea6aa8-f66c-45b2-ed30-fb95da0cd7b5"
      },
      "execution_count": 56,
      "outputs": [
        {
          "output_type": "display_data",
          "data": {
            "text/plain": [
              "<Figure size 1000x700 with 1 Axes>"
            ],
            "image/png": "[encoded data removed]"
          },
          "metadata": {}
        }
      ]
    },
    {
      "cell_type": "code",
      "source": [
        "y_test - y_preds"
      ],
      "metadata": {
        "id": "_HN62RDBXPjl",
        "colab": {
          "base_uri": "https://localhost:8080/"
        },
        "outputId": "a7579294-f023-403b-b8de-f6f4fb13520a"
      },
      "execution_count": 57,
      "outputs": [
        {
          "output_type": "execute_result",
          "data": {
            "text/plain": [
              "tensor([[1.0851],\n",
              "        [1.0964],\n",
              "        [1.1077],\n",
              "        [1.1189],\n",
              "        [1.1302],\n",
              "        [1.1415],\n",
              "        [1.1527],\n",
              "        [1.1640],\n",
              "        [1.1753],\n",
              "        [1.1865]])"
            ]
          },
          "metadata": {},
          "execution_count": 57
        }
      ]
    },
    {
      "cell_type": "markdown",
      "source": [
        "# training the model"
      ],
      "metadata": {
        "id": "PunVUVU-LjBm"
      }
    },
    {
      "cell_type": "code",
      "source": [
        "ln_func = torch.nn.L1Loss()\n",
        "\n",
        "optimizer = torch.optim.SGD(params= model_0.parameters(), lr = 0.01)"
      ],
      "metadata": {
        "id": "d7nezS9fODyq"
      },
      "execution_count": 58,
      "outputs": []
    },
    {
      "cell_type": "code",
      "source": [
        "torch.manual_seed(42)\n",
        "\n",
        "epochs = 150\n",
        "\n",
        "train_loss_val = []\n",
        "test_loss_val = []\n",
        "epoch_cnt = []\n",
        "\n",
        "for epoch in range(epochs):\n",
        "  ## training\n",
        "\n",
        "  model_0.train()\n",
        "\n",
        "  y_pred = model_0(X_train)\n",
        "\n",
        "  loss = ln_func(y_pred, y_train)\n",
        "\n",
        "  optimizer.zero_grad()\n",
        "\n",
        "  loss.backward()\n",
        "\n",
        "  optimizer.step()\n",
        "\n",
        "  ## testing\n",
        "\n",
        "  model_0.eval()\n",
        "\n",
        "  with torch.inference_mode():\n",
        "    test_pred = model_0(X_test)\n",
        "\n",
        "    test_loss = ln_func(test_pred, y_test.type(torch.float))\n",
        "\n",
        "    if epoch % 10 == 0:\n",
        "      epoch_cnt.append(epoch)\n",
        "      train_loss_val.append(loss.detach().numpy())\n",
        "      test_loss_val.append(test_loss.detach().numpy())\n",
        "      print(f\"Epoch: {epoch} | MAE Train Loss: {loss} | MAE Test Loss: {test_loss}\")\n"
      ],
      "metadata": {
        "colab": {
          "base_uri": "https://localhost:8080/"
        },
        "id": "9GDzs7JsOw_F",
        "outputId": "571b398d-4ad2-4870-97b3-f27bae3edb24"
      },
      "execution_count": 59,
      "outputs": [
        {
          "output_type": "stream",
          "name": "stdout",
          "text": [
            "Epoch: 0 | MAE Train Loss: 0.85419100522995 | MAE Test Loss: 1.0995749235153198\n",
            "Epoch: 10 | MAE Train Loss: 0.5609807968139648 | MAE Test Loss: 0.736864447593689\n",
            "Epoch: 20 | MAE Train Loss: 0.2677709758281708 | MAE Test Loss: 0.3741548955440521\n",
            "Epoch: 30 | MAE Train Loss: 0.03282831609249115 | MAE Test Loss: 0.08022264391183853\n",
            "Epoch: 40 | MAE Train Loss: 0.02979051135480404 | MAE Test Loss: 0.06807658821344376\n",
            "Epoch: 50 | MAE Train Loss: 0.028450503945350647 | MAE Test Loss: 0.06508319079875946\n",
            "Epoch: 60 | MAE Train Loss: 0.027110513299703598 | MAE Test Loss: 0.062089789658784866\n",
            "Epoch: 70 | MAE Train Loss: 0.025770533829927444 | MAE Test Loss: 0.0590963251888752\n",
            "Epoch: 80 | MAE Train Loss: 0.02443055249750614 | MAE Test Loss: 0.056102871894836426\n",
            "Epoch: 90 | MAE Train Loss: 0.023090552538633347 | MAE Test Loss: 0.05310946702957153\n",
            "Epoch: 100 | MAE Train Loss: 0.021750545129179955 | MAE Test Loss: 0.050116073340177536\n",
            "Epoch: 110 | MAE Train Loss: 0.02041056752204895 | MAE Test Loss: 0.04712260887026787\n",
            "Epoch: 120 | MAE Train Loss: 0.019070589914917946 | MAE Test Loss: 0.0441291444003582\n",
            "Epoch: 130 | MAE Train Loss: 0.017730597406625748 | MAE Test Loss: 0.0411357507109642\n",
            "Epoch: 140 | MAE Train Loss: 0.016390588134527206 | MAE Test Loss: 0.038142360746860504\n"
          ]
        }
      ]
    },
    {
      "cell_type": "code",
      "source": [
        "# ploting the loss curves\n",
        "\n",
        "plt.plot(epoch_cnt, train_loss_val, label = \"Train Loss\")\n",
        "plt.plot(epoch_cnt, test_loss_val, label = \"Test Loss\")\n",
        "plt.title(\"Training and Test Loss Curves\")\n",
        "plt.ylabel(\"Loss\")\n",
        "plt.xlabel(\"Epochs\")\n",
        "plt.legend();"
      ],
      "metadata": {
        "colab": {
          "base_uri": "https://localhost:8080/",
          "height": 472
        },
        "id": "Otl5WV4JVVo6",
        "outputId": "2f11a70a-e318-4fc8-a847-f8e8acbf8afa"
      },
      "execution_count": 60,
      "outputs": [
        {
          "output_type": "display_data",
          "data": {
            "text/plain": [
              "<Figure size 640x480 with 1 Axes>"
            ],
            "image/png": "[encoded data removed]"
          },
          "metadata": {}
        }
      ]
    },
    {
      "cell_type": "code",
      "source": [
        "print(\"The model learned the following values for weights and bias:\")\n",
        "print(model_0.state_dict())\n",
        "print(\"\\nAnd the original values for weights and bias are:\")\n",
        "print(f\"Weights: {weight}, bias: {bias}\")"
      ],
      "metadata": {
        "colab": {
          "base_uri": "https://localhost:8080/"
        },
        "id": "x3YPeo-3WhLn",
        "outputId": "343494b1-14ad-4a50-a7db-60714740be4b"
      },
      "execution_count": 61,
      "outputs": [
        {
          "output_type": "stream",
          "name": "stdout",
          "text": [
            "The model learned the following values for weights and bias:\n",
            "OrderedDict([('weights', tensor([0.8251])), ('bias', tensor([0.3063]))])\n",
            "\n",
            "And the original values for weights and bias are:\n",
            "Weights: 0.9, bias: 0.2\n"
          ]
        }
      ]
    },
    {
      "cell_type": "markdown",
      "source": [
        "# making predictions with a trained PyTorch model (Inference)"
      ],
      "metadata": {
        "id": "F-e8jxCWZQyo"
      }
    },
    {
      "cell_type": "code",
      "source": [
        "model_0.eval()\n",
        "\n",
        "with torch.inference_mode():\n",
        "  y_preds = model_0(X_test)\n",
        "y_preds"
      ],
      "metadata": {
        "colab": {
          "base_uri": "https://localhost:8080/"
        },
        "id": "4A1CbqbJZaMw",
        "outputId": "fe01b6eb-3e30-4da9-d546-9e8bd8c67775"
      },
      "execution_count": 63,
      "outputs": [
        {
          "output_type": "execute_result",
          "data": {
            "text/plain": [
              "tensor([[1.7915],\n",
              "        [1.8080],\n",
              "        [1.8245],\n",
              "        [1.8410],\n",
              "        [1.8575],\n",
              "        [1.8740],\n",
              "        [1.8905],\n",
              "        [1.9070],\n",
              "        [1.9235],\n",
              "        [1.9400]])"
            ]
          },
          "metadata": {},
          "execution_count": 63
        }
      ]
    },
    {
      "cell_type": "code",
      "source": [
        "plot_predictions(predictions=y_preds)"
      ],
      "metadata": {
        "colab": {
          "base_uri": "https://localhost:8080/",
          "height": 471
        },
        "id": "8fwGdeHfaOjY",
        "outputId": "8f4fe4f6-8dd3-4148-9fc0-68b8efe9af06"
      },
      "execution_count": 64,
      "outputs": [
        {
          "output_type": "display_data",
          "data": {
            "text/plain": [
              "<Figure size 1000x700 with 1 Axes>"
            ],
            "image/png": "[encoded data removed]"
          },
          "metadata": {}
        }
      ]
    },
    {
      "cell_type": "markdown",
      "source": [
        "# Saving a PyTorch model's state_dict()"
      ],
      "metadata": {
        "id": "KBu0RoRWbRWw"
      }
    },
    {
      "cell_type": "code",
      "source": [
        "from pathlib import Path\n",
        "\n",
        "MODEL_PATH = Path(\"models\")\n",
        "MODEL_PATH.mkdir(parents=True, exist_ok=True)\n",
        "\n",
        "MODEL_NAME = \"Pythorch_Linear_Regression.pth\"\n",
        "MODEL_SAVE_PATH = MODEL_PATH / MODEL_NAME\n",
        "\n",
        "print(f\"Saving model to: {MODEL_SAVE_PATH}\")\n",
        "torch.save(obj=model_0.state_dict(),f=MODEL_SAVE_PATH)\n"
      ],
      "metadata": {
        "colab": {
          "base_uri": "https://localhost:8080/"
        },
        "id": "rSvAJ9fCbWd5",
        "outputId": "bbaec724-f976-4e3b-9892-e7d4dbdbeb69"
      },
      "execution_count": 65,
      "outputs": [
        {
          "output_type": "stream",
          "name": "stdout",
          "text": [
            "Saving model to: models/Pythorch_Linear_Regression.pth\n"
          ]
        }
      ]
    },
    {
      "cell_type": "code",
      "source": [
        "# for checking the saved file path\n",
        "\n",
        "!ls -l models/Pythorch_Linear_Regression.pth"
      ],
      "metadata": {
        "colab": {
          "base_uri": "https://localhost:8080/"
        },
        "id": "w-L244nydGeK",
        "outputId": "3a05c825-5617-4ce6-8546-9c4785f335b9"
      },
      "execution_count": 66,
      "outputs": [
        {
          "output_type": "stream",
          "name": "stdout",
          "text": [
            "-rw-r--r-- 1 root root 1674 Jun 24 18:13 models/Pythorch_Linear_Regression.pth\n"
          ]
        }
      ]
    },
    {
      "cell_type": "markdown",
      "source": [
        "# Loading a saved PyTorch model's state_dict()"
      ],
      "metadata": {
        "id": "-fCQD2IUdUej"
      }
    },
    {
      "cell_type": "code",
      "source": [
        "loaded_model_0 = LinearRegressionModel()\n",
        "\n",
        "loaded_model_0.load_state_dict(torch.load(f=MODEL_SAVE_PATH))"
      ],
      "metadata": {
        "colab": {
          "base_uri": "https://localhost:8080/"
        },
        "id": "t--KxXkkdv7W",
        "outputId": "8270e94c-f447-455e-f0e5-c0c7c6a2672e"
      },
      "execution_count": 67,
      "outputs": [
        {
          "output_type": "execute_result",
          "data": {
            "text/plain": [
              "<All keys matched successfully>"
            ]
          },
          "metadata": {},
          "execution_count": 67
        }
      ]
    },
    {
      "cell_type": "code",
      "source": [
        "# now we will test our loaded model\n",
        "\n",
        "loaded_model_0.eval()\n",
        "\n",
        "with torch.inference_mode():\n",
        "  loaded_model_preds = loaded_model_0(X_test)"
      ],
      "metadata": {
        "id": "QnDNYYLffceH"
      },
      "execution_count": 68,
      "outputs": []
    },
    {
      "cell_type": "code",
      "source": [
        "# now we are checking if the loaded model predictions are same as the previous model\n",
        "y_preds == loaded_model_preds"
      ],
      "metadata": {
        "colab": {
          "base_uri": "https://localhost:8080/"
        },
        "id": "edo-bsQrf10d",
        "outputId": "fa73ba0d-2d76-4e7a-f657-d73b6fec1ee1"
      },
      "execution_count": 69,
      "outputs": [
        {
          "output_type": "execute_result",
          "data": {
            "text/plain": [
              "tensor([[True],\n",
              "        [True],\n",
              "        [True],\n",
              "        [True],\n",
              "        [True],\n",
              "        [True],\n",
              "        [True],\n",
              "        [True],\n",
              "        [True],\n",
              "        [True]])"
            ]
          },
          "metadata": {},
          "execution_count": 69
        }
      ]
    }
  ]
}