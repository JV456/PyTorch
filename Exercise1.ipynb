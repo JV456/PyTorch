{
  "nbformat": 4,
  "nbformat_minor": 0,
  "metadata": {
    "colab": {
      "provenance": [],
      "gpuType": "T4",
      "authorship_tag": "ABX9TyPSGWAprGCWN1iRToPGkw/j",
      "include_colab_link": true
    },
    "kernelspec": {
      "name": "python3",
      "display_name": "Python 3"
    },
    "language_info": {
      "name": "python"
    },
    "accelerator": "GPU"
  },
  "cells": [
    {
      "cell_type": "markdown",
      "metadata": {
        "id": "view-in-github",
        "colab_type": "text"
      },
      "source": [
        "<a href=\"https://colab.research.google.com/github/JV456/PyTorch/blob/main/Exercise1.ipynb\" target=\"_parent\"><img src=\"https://colab.research.google.com/assets/colab-badge.svg\" alt=\"Open In Colab\"/></a>"
      ]
    },
    {
      "cell_type": "code",
      "execution_count": 2,
      "metadata": {
        "id": "IGNCNKW5W0Sq"
      },
      "outputs": [],
      "source": [
        "import torch\n",
        "import numpy"
      ]
    },
    {
      "cell_type": "markdown",
      "source": [
        "# Create a random tensor with shape (7, 7)"
      ],
      "metadata": {
        "id": "QT4ODM0gXIuO"
      }
    },
    {
      "cell_type": "code",
      "source": [
        "tensor_A = torch.rand([7,7])\n",
        "tensor_A , tensor_A.shape"
      ],
      "metadata": {
        "colab": {
          "base_uri": "https://localhost:8080/"
        },
        "id": "DD_QG6-SXMvZ",
        "outputId": "d0487565-e05b-48fe-bcdd-42b70df6dd6f"
      },
      "execution_count": 3,
      "outputs": [
        {
          "output_type": "execute_result",
          "data": {
            "text/plain": [
              "(tensor([[0.4325, 0.4871, 0.9078, 0.4588, 0.8141, 0.7564, 0.8523],\n",
              "         [0.1486, 0.5745, 0.2304, 0.9269, 0.1715, 0.7905, 0.7384],\n",
              "         [0.3113, 0.1003, 0.6773, 0.7135, 0.8462, 0.1095, 0.4506],\n",
              "         [0.6268, 0.2361, 0.1701, 0.2820, 0.2160, 0.4581, 0.6371],\n",
              "         [0.7663, 0.1452, 0.5823, 0.8949, 0.1278, 0.5579, 0.9786],\n",
              "         [0.2018, 0.7968, 0.7169, 0.4489, 0.8943, 0.9586, 0.2251],\n",
              "         [0.0045, 0.0439, 0.3837, 0.9978, 0.2865, 0.6262, 0.5339]]),\n",
              " torch.Size([7, 7]))"
            ]
          },
          "metadata": {},
          "execution_count": 3
        }
      ]
    },
    {
      "cell_type": "markdown",
      "source": [
        "# Perform a matrix multiplication on the tensor from 2 with another random tensor with shape (1, 7)."
      ],
      "metadata": {
        "id": "LkuQIxm3XtuP"
      }
    },
    {
      "cell_type": "code",
      "source": [
        "tensor_B = torch.rand(1,7)\n",
        "tensor_B = tensor_B.T\n",
        "tensor_C = torch.matmul(tensor_A,tensor_B)\n",
        "tensor_C , tensor_C.shape"
      ],
      "metadata": {
        "colab": {
          "base_uri": "https://localhost:8080/"
        },
        "id": "LcmcWC38XxIN",
        "outputId": "177916b5-3900-409c-cb74-e53ada001f96"
      },
      "execution_count": 4,
      "outputs": [
        {
          "output_type": "execute_result",
          "data": {
            "text/plain": [
              "(tensor([[2.3065],\n",
              "         [1.6868],\n",
              "         [1.7287],\n",
              "         [1.1924],\n",
              "         [2.0425],\n",
              "         [1.7211],\n",
              "         [1.4530]]),\n",
              " torch.Size([7, 1]))"
            ]
          },
          "metadata": {},
          "execution_count": 4
        }
      ]
    },
    {
      "cell_type": "markdown",
      "source": [
        "# Set the random seed to 0 and do exercises 2 & 3 over again."
      ],
      "metadata": {
        "id": "65BXnFHKZK0z"
      }
    },
    {
      "cell_type": "code",
      "source": [
        "torch.manual_seed(0)\n",
        "\n",
        "X = torch.rand(1,7)\n",
        "Y = torch.rand(7,7)\n",
        "\n",
        "Z = torch.matmul(X,Y.T)\n",
        "Z , Z.shape\n"
      ],
      "metadata": {
        "colab": {
          "base_uri": "https://localhost:8080/"
        },
        "id": "vRjZOzFtZMVD",
        "outputId": "380814ba-906f-4524-cb0d-b520eea561f3"
      },
      "execution_count": 5,
      "outputs": [
        {
          "output_type": "execute_result",
          "data": {
            "text/plain": [
              "(tensor([[1.1173, 1.2741, 1.6838, 0.8279, 1.0347, 1.2498, 1.8542]]),\n",
              " torch.Size([1, 7]))"
            ]
          },
          "metadata": {},
          "execution_count": 5
        }
      ]
    },
    {
      "cell_type": "code",
      "source": [
        "torch.cuda.manual_seed(1234)"
      ],
      "metadata": {
        "id": "m-mCrzUmZ99K"
      },
      "execution_count": 6,
      "outputs": []
    },
    {
      "cell_type": "markdown",
      "source": [
        "# Create two random tensors of shape (2, 3) and send them both to the GPU (you'll need access to a GPU for this). Set torch.manual_seed(1234) when creating the tensors."
      ],
      "metadata": {
        "id": "s5cwXOSha3MP"
      }
    },
    {
      "cell_type": "code",
      "source": [
        "torch.manual_seed(1234)\n",
        "\n",
        "device = \"cuda\" if torch.cuda.is_available() else \"cpu\"\n",
        "print(f\"Device: {device}\")\n",
        "\n",
        "A = torch.rand(2,3).to(device)\n",
        "B = torch.rand(2,3).to(device)\n",
        "\n",
        "A , B\n"
      ],
      "metadata": {
        "colab": {
          "base_uri": "https://localhost:8080/"
        },
        "id": "sBix3as9aIZi",
        "outputId": "f26213fa-6662-4d2f-f183-acb73986d51f"
      },
      "execution_count": 7,
      "outputs": [
        {
          "output_type": "stream",
          "name": "stdout",
          "text": [
            "Device: cuda\n"
          ]
        },
        {
          "output_type": "execute_result",
          "data": {
            "text/plain": [
              "(tensor([[0.0290, 0.4019, 0.2598],\n",
              "         [0.3666, 0.0583, 0.7006]], device='cuda:0'),\n",
              " tensor([[0.0518, 0.4681, 0.6738],\n",
              "         [0.3315, 0.7837, 0.5631]], device='cuda:0'))"
            ]
          },
          "metadata": {},
          "execution_count": 7
        }
      ]
    },
    {
      "cell_type": "markdown",
      "source": [
        "#  Perform a matrix multiplication on the tensors you created in 6"
      ],
      "metadata": {
        "id": "Dl2eYEwUbv_k"
      }
    },
    {
      "cell_type": "code",
      "source": [
        "C = torch.matmul(A, B.T)\n",
        "C"
      ],
      "metadata": {
        "colab": {
          "base_uri": "https://localhost:8080/"
        },
        "id": "VRSCuEX3byjL",
        "outputId": "be8fa4ed-a2cd-451b-a443-cc8169ad6bda"
      },
      "execution_count": 8,
      "outputs": [
        {
          "output_type": "execute_result",
          "data": {
            "text/plain": [
              "tensor([[0.3647, 0.4709],\n",
              "        [0.5184, 0.5617]], device='cuda:0')"
            ]
          },
          "metadata": {},
          "execution_count": 8
        }
      ]
    },
    {
      "cell_type": "markdown",
      "source": [
        "# Find the maximum and minimum values of the output of 7."
      ],
      "metadata": {
        "id": "rnS1l_ddcCPs"
      }
    },
    {
      "cell_type": "code",
      "source": [
        "min = torch.min(C)\n",
        "print(f\"min: {min}\")\n",
        "max = torch.max(C)\n",
        "print(f\"max: {max}\")"
      ],
      "metadata": {
        "colab": {
          "base_uri": "https://localhost:8080/"
        },
        "id": "jblCkEk_cFSa",
        "outputId": "e07ab141-73b6-4b1d-ad6a-7b6d72348435"
      },
      "execution_count": 11,
      "outputs": [
        {
          "output_type": "stream",
          "name": "stdout",
          "text": [
            "min: 0.3647301495075226\n",
            "max: 0.5617256760597229\n"
          ]
        }
      ]
    },
    {
      "cell_type": "code",
      "source": [
        "min , max"
      ],
      "metadata": {
        "colab": {
          "base_uri": "https://localhost:8080/"
        },
        "id": "wgDqdSvDcw5w",
        "outputId": "3e45f8ee-6a63-4176-c4af-e0195b2cfacd"
      },
      "execution_count": 12,
      "outputs": [
        {
          "output_type": "execute_result",
          "data": {
            "text/plain": [
              "(tensor(0.3647, device='cuda:0'), tensor(0.5617, device='cuda:0'))"
            ]
          },
          "metadata": {},
          "execution_count": 12
        }
      ]
    },
    {
      "cell_type": "markdown",
      "source": [
        "# Find the maximum and minimum index values of the output of 7"
      ],
      "metadata": {
        "id": "puIKHrVRc0yX"
      }
    },
    {
      "cell_type": "code",
      "source": [
        "index_min = torch.argmin(C)\n",
        "index_max = torch.argmax(C)\n",
        "\n",
        "index_min , index_max"
      ],
      "metadata": {
        "colab": {
          "base_uri": "https://localhost:8080/"
        },
        "id": "6zNxf-XRc4qt",
        "outputId": "f41d17b8-097a-4f0f-a009-dc155736c16d"
      },
      "execution_count": 13,
      "outputs": [
        {
          "output_type": "execute_result",
          "data": {
            "text/plain": [
              "(tensor(0, device='cuda:0'), tensor(3, device='cuda:0'))"
            ]
          },
          "metadata": {},
          "execution_count": 13
        }
      ]
    },
    {
      "cell_type": "markdown",
      "source": [
        "# Make a random tensor with shape (1, 1, 1, 10) and then create a new tensor with all the 1 dimensions removed to be left with a tensor of shape (10). Set the seed to 7 when you create it and print out the first tensor and it's shape as well as the second tensor and it's shape."
      ],
      "metadata": {
        "id": "AKTWb363dfXC"
      }
    },
    {
      "cell_type": "code",
      "source": [
        "torch.manual_seed(7)\n",
        "\n",
        "random_tensor = torch.rand(size=(1,1,1,10))\n",
        "\n",
        "random_tensor1 = random_tensor.squeeze()\n",
        "\n",
        "print(random_tensor, random_tensor.shape)\n",
        "print(random_tensor1, random_tensor1.shape)"
      ],
      "metadata": {
        "colab": {
          "base_uri": "https://localhost:8080/"
        },
        "id": "9k300IY9dQ4c",
        "outputId": "08133636-c300-4d58-8740-2f68618c3b91"
      },
      "execution_count": 16,
      "outputs": [
        {
          "output_type": "stream",
          "name": "stdout",
          "text": [
            "tensor([[[[0.5349, 0.1988, 0.6592, 0.6569, 0.2328, 0.4251, 0.2071, 0.6297,\n",
            "           0.3653, 0.8513]]]]) torch.Size([1, 1, 1, 10])\n",
            "tensor([0.5349, 0.1988, 0.6592, 0.6569, 0.2328, 0.4251, 0.2071, 0.6297, 0.3653,\n",
            "        0.8513]) torch.Size([10])\n"
          ]
        }
      ]
    }
  ]
}